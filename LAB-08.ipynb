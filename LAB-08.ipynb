{
 "cells": [
  {
   "cell_type": "markdown",
   "id": "f9c026b0",
   "metadata": {},
   "source": [
    "# In this lab we will be designing a code for tic-tac-toe game \n",
    "### what should be the logic to code this game , to understand that we first need to understand how tic-tac-toe already works\n",
    "\n",
    "* so we can have a check function which checks if some player has already won the game \n",
    "* we can alternate the chances between the players via % and till some player wins the game or all cells get filled \n",
    "* we can take input from the user about which symbol he wants to pick \n",
    "* we can have a toss between the player to decide which player would start \n",
    "* we can have a simple case as well where we denote that 2nd player is 'O' and first player is 'X'\n",
    "\n",
    "**so basically the flow will go like this**\n",
    "\n",
    "1. create a empty 2D array whose initial values are all 'Y' characters lets say\n",
    "2. create the toss between the 2 players using rand function (ex. toss = rand()%2==0?player1:player2)\n",
    "3. start playing based on the player that wins toss\n",
    "4. check after playing each move whether the player who just moved won the game \n",
    "    4.1 If he wins the game then output the player which won that game and then end game \n",
    "    4.2 If not then continue the game giving 2nd player chance to play\n",
    "5. when 2nd player chooses a square lets say 2,0 then first check if (2,0) is already filled with X/O \n",
    "    5.1 if yes then output wrong input X/O already exists in that square \n",
    "    5.2 if no then go on to check if the player won "
   ]
  },
  {
   "cell_type": "code",
   "execution_count": 13,
   "id": "a14ef672",
   "metadata": {},
   "outputs": [
    {
     "name": "stdout",
     "output_type": "stream",
     "text": [
      "[['Y', 'Y', 'Y'], ['Y', 'Y', 'Y'], ['Y', 'Y', 'Y']]\n"
     ]
    }
   ],
   "source": [
    "# Creating a tic-tac-toe 2D grid \n",
    "rows, cols = (3, 3)\n",
    "tic_tac_toe = [['Y']*cols]*rows\n",
    "print(tic_tac_toe)"
   ]
  },
  {
   "cell_type": "code",
   "execution_count": 14,
   "id": "ab3f557a",
   "metadata": {},
   "outputs": [
    {
     "name": "stdout",
     "output_type": "stream",
     "text": [
      "[['Y', 'Y', 'Y'], ['Y', 'Y', 'Y'], ['Y', 'Y', 'Y']]\n"
     ]
    }
   ],
   "source": [
    "# But in the above creation method we have a problem if we try to update only one element of a row it updates all elements in the\n",
    "# column\n",
    "row, cols = (3,3)\n",
    "tic_tac_toe = [['Y' for i in range(cols)] for j in range(rows)]\n",
    "print(tic_tac_toe)"
   ]
  },
  {
   "cell_type": "code",
   "execution_count": 15,
   "id": "dfef1688",
   "metadata": {},
   "outputs": [
    {
     "name": "stdout",
     "output_type": "stream",
     "text": [
      "O should start the match\n"
     ]
    }
   ],
   "source": [
    "# Creating a toss between 2 players \n",
    "import numpy as np\n",
    "import random\n",
    "toss = random.randint(2,100)\n",
    "toss = toss%2\n",
    "if toss == 1:\n",
    "    print('X should start the match')\n",
    "else : \n",
    "    print('O should start the match')\n",
    "    "
   ]
  },
  {
   "cell_type": "code",
   "execution_count": 16,
   "id": "67998b7c",
   "metadata": {},
   "outputs": [
    {
     "name": "stdout",
     "output_type": "stream",
     "text": [
      "Enter the index where you want to place X :\n",
      "0\n",
      "0\n",
      "['X', 'Y', 'Y']\n",
      "['Y', 'Y', 'Y']\n",
      "['Y', 'Y', 'Y']\n",
      "Enter the index where you want to place O :\n",
      "1\n",
      "1\n",
      "['X', 'Y', 'Y']\n",
      "['Y', 'O', 'Y']\n",
      "['Y', 'Y', 'Y']\n",
      "Enter the index where you want to place X :\n",
      "2\n",
      "0\n",
      "['X', 'Y', 'Y']\n",
      "['Y', 'O', 'Y']\n",
      "['X', 'Y', 'Y']\n",
      "Enter the index where you want to place O :\n",
      "1\n",
      "0\n",
      "['X', 'Y', 'Y']\n",
      "['O', 'O', 'Y']\n",
      "['X', 'Y', 'Y']\n",
      "Enter the index where you want to place X :\n",
      "2\n",
      "9\n",
      "Wrong input please enter correct input\n",
      "Enter the index where you want to place X :\n",
      "1\n",
      "2\n",
      "['X', 'Y', 'Y']\n",
      "['O', 'O', 'X']\n",
      "['X', 'Y', 'Y']\n",
      "Enter the index where you want to place O :\n",
      "2\n",
      "1\n",
      "['X', 'Y', 'Y']\n",
      "['O', 'O', 'X']\n",
      "['X', 'O', 'Y']\n",
      "Enter the index where you want to place X :\n",
      "0\n",
      "1\n",
      "['X', 'X', 'Y']\n",
      "['O', 'O', 'X']\n",
      "['X', 'O', 'Y']\n",
      "Enter the index where you want to place O :\n",
      "0\n",
      "2\n",
      "['X', 'X', 'O']\n",
      "['O', 'O', 'X']\n",
      "['X', 'O', 'Y']\n",
      "Enter the index where you want to place X :\n",
      "3\n",
      "3\n",
      "Wrong input please enter correct input\n",
      "Enter the index where you want to place X :\n",
      "2\n",
      "2\n",
      "['X', 'X', 'O']\n",
      "['O', 'O', 'X']\n",
      "['X', 'O', 'X']\n",
      "Draw! wanna have a rematch?\n"
     ]
    }
   ],
   "source": [
    "# Now we ask user to enter the index where he wants to place his X/O\n",
    "# check_if_completely filled will be a function which will check if grid is completely filled or not\n",
    "import sys\n",
    "def check_if_won(tic_tac_toe,char,x,y):\n",
    "    if char == 'O':\n",
    "        if tic_tac_toe[x][0] == 'O' and tic_tac_toe[x][1] == 'O' and tic_tac_toe[x][2] == 'O' :\n",
    "            print('Player 2 has won the game')\n",
    "            quit()\n",
    "            quit()\n",
    "            exit()\n",
    "            sys.exit()\n",
    "        elif tic_tac_toe[0][y] == 'O' and tic_tac_toe[1][y] == 'O' and tic_tac_toe[2][y] == 'O' :\n",
    "            print('Player 2 has won the game')\n",
    "            quit()\n",
    "            quit()\n",
    "            exit()\n",
    "            sys.exit()\n",
    "        elif tic_tac_toe[0][0] == 'O' and tic_tac_toe[1][1] == 'O' and tic_tac_toe[2][2] == 'O' :\n",
    "            print('Player 2 has won the game')\n",
    "            quit()\n",
    "            quit()\n",
    "            exit()\n",
    "            sys.exit()\n",
    "        elif tic_tac_toe[0][2] == 'O' and tic_tac_toe[1][1] == 'O' and tic_tac_toe[2][0] == 'O' :\n",
    "            print('Player 2 has won the game')\n",
    "            quit()\n",
    "            quit()\n",
    "            exit()\n",
    "            sys.exit()\n",
    "    elif char == 'X':\n",
    "        if tic_tac_toe[x][0] == 'X' and tic_tac_toe[x][1] == 'X' and tic_tac_toe[x][2] == 'X' :\n",
    "            print('Player 1 has won the game')\n",
    "            sys.exit()\n",
    "            print('Please exit program')\n",
    "            exit()\n",
    "            quit()\n",
    "            exit()\n",
    "            sys.exit()\n",
    "        elif tic_tac_toe[0][y] == 'X' and tic_tac_toe[1][y] == 'X' and tic_tac_toe[2][y] == 'X' :\n",
    "            print('Player 1 has won the game')\n",
    "            quit()\n",
    "            exit()\n",
    "            sys.exit()\n",
    "        elif tic_tac_toe[0][0] == 'X' and tic_tac_toe[1][1] == 'X' and tic_tac_toe[2][2] == 'X' :\n",
    "            print('Player 1 has won the game')\n",
    "            quit()\n",
    "            quit()\n",
    "            exit()\n",
    "            sys.exit()\n",
    "        elif tic_tac_toe[0][2] == 'X' and tic_tac_toe[1][1] == 'X' and tic_tac_toe[2][0] == 'X' :\n",
    "            print('Player 1 has won the game')\n",
    "            quit()\n",
    "            quit()\n",
    "            exit()\n",
    "            sys.exit()\n",
    "        \n",
    "            \n",
    "def check_if_completely_filled(tic_tac_toe):\n",
    "    for i in range (0,3):\n",
    "        for j in range(0,3):\n",
    "            if tic_tac_toe[i][j] == 'Y':\n",
    "                return False\n",
    "    return True\n",
    "\n",
    "def print_func(tic_tac_toe):\n",
    "    for i in range(0,3):\n",
    "        print(tic_tac_toe[i])\n",
    "            \n",
    "\n",
    "player = 1\n",
    "while not check_if_completely_filled(tic_tac_toe):\n",
    "    if player == 1 :\n",
    "        print('Enter the index where you want to place X :')\n",
    "        x = int(input())\n",
    "        y = int(input())\n",
    "        if x >= 3 or y>=3 or x<0 or y<0 :\n",
    "            print('Wrong input please enter correct input')\n",
    "        else : \n",
    "            if tic_tac_toe[x][y] == 'Y' : \n",
    "                tic_tac_toe[x][y] = 'X'\n",
    "                check_if_won(tic_tac_toe,'X',x,y)\n",
    "                player = 0\n",
    "                print_func(tic_tac_toe)\n",
    "            else :\n",
    "                print('This square is already filled with '+tic_tac_toe[x][y])\n",
    "                print('Please enter another index')\n",
    "\n",
    "    else : \n",
    "        print('Enter the index where you want to place O :')\n",
    "        x = int(input())\n",
    "        y = int(input())\n",
    "        if x >= 3 or y>=3 or x<0 or y<0 :\n",
    "            print('Wrong input please enter correct input')\n",
    "        else : \n",
    "            if tic_tac_toe[x][y] == 'Y' : \n",
    "                tic_tac_toe[x][y] = 'O'\n",
    "                check_if_won(tic_tac_toe,'O',x,y)\n",
    "                player = 1\n",
    "                print_func(tic_tac_toe)\n",
    "            else :\n",
    "                print('This square is already filled with '+tic_tac_toe[x][y])\n",
    "                print('Please enter another index')\n",
    "else :\n",
    "    print('Draw! wanna have a rematch?')"
   ]
  },
  {
   "cell_type": "code",
   "execution_count": 19,
   "id": "2f36d50e",
   "metadata": {},
   "outputs": [
    {
     "name": "stdout",
     "output_type": "stream",
     "text": [
      "['X', 'X', 'O']\n",
      "['O', 'O', 'X']\n",
      "['X', 'O', 'X']\n"
     ]
    }
   ],
   "source": [
    "print_func(tic_tac_toe)"
   ]
  },
  {
   "cell_type": "code",
   "execution_count": null,
   "id": "a47746c8",
   "metadata": {},
   "outputs": [],
   "source": []
  }
 ],
 "metadata": {
  "kernelspec": {
   "display_name": "Python 3 (ipykernel)",
   "language": "python",
   "name": "python3"
  },
  "language_info": {
   "codemirror_mode": {
    "name": "ipython",
    "version": 3
   },
   "file_extension": ".py",
   "mimetype": "text/x-python",
   "name": "python",
   "nbconvert_exporter": "python",
   "pygments_lexer": "ipython3",
   "version": "3.10.6"
  }
 },
 "nbformat": 4,
 "nbformat_minor": 5
}
